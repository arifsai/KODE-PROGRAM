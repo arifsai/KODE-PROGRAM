{
 "cells": [
  {
   "cell_type": "code",
   "execution_count": 1,
   "metadata": {},
   "outputs": [],
   "source": [
    "import pandas as pd\n",
    "import numpy as np"
   ]
  },
  {
   "attachments": {},
   "cell_type": "markdown",
   "metadata": {},
   "source": [
    "# Import Dataset"
   ]
  },
  {
   "cell_type": "code",
   "execution_count": 2,
   "metadata": {},
   "outputs": [],
   "source": [
    "dataset_xls_1 = pd.read_excel('./Dataset/sales-(2020).xlsx')\n",
    "dataset_xls_2 = pd.read_excel('./Dataset/sales-(2021).xlsx')\n",
    "dataset_xls_3 = pd.read_excel('./Dataset/sales-(2022).xlsx')\n",
    "dataset_xls_4 = pd.read_excel('./Dataset/sales-(2023).xlsx')"
   ]
  },
  {
   "cell_type": "code",
   "execution_count": 3,
   "metadata": {},
   "outputs": [],
   "source": [
    "# combine all dataset_xls into one dataframe \n",
    "dataset = pd.concat([dataset_xls_1, dataset_xls_2, dataset_xls_3, dataset_xls_4], ignore_index=True)"
   ]
  },
  {
   "cell_type": "code",
   "execution_count": 4,
   "metadata": {},
   "outputs": [
    {
     "data": {
      "text/plain": [
       "Index(['username', 'no-pesanan', 'tanggal-pesanan', 'nama-barang', 'jumlah',\n",
       "       'dibayar', 'payment-method'],\n",
       "      dtype='object')"
      ]
     },
     "execution_count": 4,
     "metadata": {},
     "output_type": "execute_result"
    }
   ],
   "source": [
    "dataset.columns"
   ]
  },
  {
   "cell_type": "code",
   "execution_count": 5,
   "metadata": {},
   "outputs": [
    {
     "data": {
      "text/html": [
       "<div>\n",
       "<style scoped>\n",
       "    .dataframe tbody tr th:only-of-type {\n",
       "        vertical-align: middle;\n",
       "    }\n",
       "\n",
       "    .dataframe tbody tr th {\n",
       "        vertical-align: top;\n",
       "    }\n",
       "\n",
       "    .dataframe thead th {\n",
       "        text-align: right;\n",
       "    }\n",
       "</style>\n",
       "<table border=\"1\" class=\"dataframe\">\n",
       "  <thead>\n",
       "    <tr style=\"text-align: right;\">\n",
       "      <th></th>\n",
       "      <th>username</th>\n",
       "      <th>no-pesanan</th>\n",
       "      <th>tanggal-pesanan</th>\n",
       "      <th>nama-barang</th>\n",
       "      <th>jumlah</th>\n",
       "      <th>dibayar</th>\n",
       "      <th>payment-method</th>\n",
       "    </tr>\n",
       "  </thead>\n",
       "  <tbody>\n",
       "    <tr>\n",
       "      <th>0</th>\n",
       "      <td>surya251196</td>\n",
       "      <td>201104NURT3</td>\n",
       "      <td>2020-05-03</td>\n",
       "      <td>NIBRAS SARIMBIT LAIKA BLACK, NIBRAS SARIMBIT E...</td>\n",
       "      <td>2</td>\n",
       "      <td>230000</td>\n",
       "      <td>COD</td>\n",
       "    </tr>\n",
       "    <tr>\n",
       "      <th>1</th>\n",
       "      <td>captain.marline</td>\n",
       "      <td>201104DSB34</td>\n",
       "      <td>2020-05-03</td>\n",
       "      <td>NIBRAS SARIMBIT LAIKA BLACK, NIBRAS NBC 20 GAM...</td>\n",
       "      <td>2</td>\n",
       "      <td>230000</td>\n",
       "      <td>COD</td>\n",
       "    </tr>\n",
       "    <tr>\n",
       "      <th>2</th>\n",
       "      <td>ridhayashinta</td>\n",
       "      <td>201104JHVJ45</td>\n",
       "      <td>2020-05-03</td>\n",
       "      <td>NIBRAS SARIMBIT LAIKA BLACK, NIBRAS KOKO NK 101</td>\n",
       "      <td>2</td>\n",
       "      <td>230000</td>\n",
       "      <td>COD</td>\n",
       "    </tr>\n",
       "    <tr>\n",
       "      <th>3</th>\n",
       "      <td>nurulismawati103</td>\n",
       "      <td>201104VGRX4</td>\n",
       "      <td>2020-05-03</td>\n",
       "      <td>NIBRAS KOKO NSK 89 DAN GAMIS NB A89, NIBRAS KO...</td>\n",
       "      <td>2</td>\n",
       "      <td>230000</td>\n",
       "      <td>COD</td>\n",
       "    </tr>\n",
       "    <tr>\n",
       "      <th>4</th>\n",
       "      <td>nabilahauraaa</td>\n",
       "      <td>201104XSAEF</td>\n",
       "      <td>2020-05-04</td>\n",
       "      <td>NIBRAS KOKO NSK 89 DAN GAMIS NB A90, NIBRAS CO...</td>\n",
       "      <td>2</td>\n",
       "      <td>230000</td>\n",
       "      <td>Pay Later</td>\n",
       "    </tr>\n",
       "    <tr>\n",
       "      <th>...</th>\n",
       "      <td>...</td>\n",
       "      <td>...</td>\n",
       "      <td>...</td>\n",
       "      <td>...</td>\n",
       "      <td>...</td>\n",
       "      <td>...</td>\n",
       "      <td>...</td>\n",
       "    </tr>\n",
       "    <tr>\n",
       "      <th>395</th>\n",
       "      <td>gusnajib</td>\n",
       "      <td>231003AQW34</td>\n",
       "      <td>2023-04-06</td>\n",
       "      <td>NIBRAS SARIMBIT 70 COKLAT, NIBRAS SARIMBIT CAR...</td>\n",
       "      <td>2</td>\n",
       "      <td>230000</td>\n",
       "      <td>COD</td>\n",
       "    </tr>\n",
       "    <tr>\n",
       "      <th>396</th>\n",
       "      <td>shella_naura</td>\n",
       "      <td>231003FVG77</td>\n",
       "      <td>2023-04-06</td>\n",
       "      <td>NIBRAS SARIMBIT 70 COKLAT, NIBRAS SARIMBIT CHE...</td>\n",
       "      <td>2</td>\n",
       "      <td>230000</td>\n",
       "      <td>COD</td>\n",
       "    </tr>\n",
       "    <tr>\n",
       "      <th>397</th>\n",
       "      <td>aldokristanto</td>\n",
       "      <td>231003NBV59</td>\n",
       "      <td>2023-04-06</td>\n",
       "      <td>NIBRAS SARIMBIT 70 COKLAT, NIBRAS KOKO POLOS N...</td>\n",
       "      <td>2</td>\n",
       "      <td>230000</td>\n",
       "      <td>Pay Later</td>\n",
       "    </tr>\n",
       "    <tr>\n",
       "      <th>398</th>\n",
       "      <td>nurulrhmynti</td>\n",
       "      <td>231003MNB10</td>\n",
       "      <td>2023-04-07</td>\n",
       "      <td>NIBRAS SARIMBIT 70 COKLAT, NIBRAS GAMIS NB B108</td>\n",
       "      <td>2</td>\n",
       "      <td>230000</td>\n",
       "      <td>COD</td>\n",
       "    </tr>\n",
       "    <tr>\n",
       "      <th>399</th>\n",
       "      <td>diktahuaku</td>\n",
       "      <td>231003TRE09</td>\n",
       "      <td>2023-04-07</td>\n",
       "      <td>NIBRAS SARIMBIT 70 COKLAT, NIBRAS SARIMBIT LAI...</td>\n",
       "      <td>2</td>\n",
       "      <td>230000</td>\n",
       "      <td>COD</td>\n",
       "    </tr>\n",
       "  </tbody>\n",
       "</table>\n",
       "<p>400 rows × 7 columns</p>\n",
       "</div>"
      ],
      "text/plain": [
       "             username    no-pesanan tanggal-pesanan  \\\n",
       "0         surya251196   201104NURT3      2020-05-03   \n",
       "1     captain.marline   201104DSB34      2020-05-03   \n",
       "2       ridhayashinta  201104JHVJ45      2020-05-03   \n",
       "3    nurulismawati103   201104VGRX4      2020-05-03   \n",
       "4       nabilahauraaa   201104XSAEF      2020-05-04   \n",
       "..                ...           ...             ...   \n",
       "395          gusnajib   231003AQW34      2023-04-06   \n",
       "396      shella_naura   231003FVG77      2023-04-06   \n",
       "397     aldokristanto   231003NBV59      2023-04-06   \n",
       "398      nurulrhmynti   231003MNB10      2023-04-07   \n",
       "399        diktahuaku   231003TRE09      2023-04-07   \n",
       "\n",
       "                                           nama-barang  jumlah  dibayar  \\\n",
       "0    NIBRAS SARIMBIT LAIKA BLACK, NIBRAS SARIMBIT E...       2   230000   \n",
       "1    NIBRAS SARIMBIT LAIKA BLACK, NIBRAS NBC 20 GAM...       2   230000   \n",
       "2      NIBRAS SARIMBIT LAIKA BLACK, NIBRAS KOKO NK 101       2   230000   \n",
       "3    NIBRAS KOKO NSK 89 DAN GAMIS NB A89, NIBRAS KO...       2   230000   \n",
       "4    NIBRAS KOKO NSK 89 DAN GAMIS NB A90, NIBRAS CO...       2   230000   \n",
       "..                                                 ...     ...      ...   \n",
       "395  NIBRAS SARIMBIT 70 COKLAT, NIBRAS SARIMBIT CAR...       2   230000   \n",
       "396  NIBRAS SARIMBIT 70 COKLAT, NIBRAS SARIMBIT CHE...       2   230000   \n",
       "397  NIBRAS SARIMBIT 70 COKLAT, NIBRAS KOKO POLOS N...       2   230000   \n",
       "398    NIBRAS SARIMBIT 70 COKLAT, NIBRAS GAMIS NB B108       2   230000   \n",
       "399  NIBRAS SARIMBIT 70 COKLAT, NIBRAS SARIMBIT LAI...       2   230000   \n",
       "\n",
       "    payment-method  \n",
       "0              COD  \n",
       "1              COD  \n",
       "2              COD  \n",
       "3              COD  \n",
       "4        Pay Later  \n",
       "..             ...  \n",
       "395            COD  \n",
       "396            COD  \n",
       "397      Pay Later  \n",
       "398            COD  \n",
       "399            COD  \n",
       "\n",
       "[400 rows x 7 columns]"
      ]
     },
     "execution_count": 5,
     "metadata": {},
     "output_type": "execute_result"
    }
   ],
   "source": [
    "dataset"
   ]
  },
  {
   "attachments": {},
   "cell_type": "markdown",
   "metadata": {},
   "source": [
    "## Tokenize nama-barang"
   ]
  },
  {
   "cell_type": "code",
   "execution_count": 6,
   "metadata": {},
   "outputs": [],
   "source": [
    "dataset['nama-barang'] = dataset['nama-barang'].str.split(', ')\n",
    "dataset['nama-barang'] = dataset['nama-barang'].apply(\n",
    "    lambda x: [item.strip() for item in x])"
   ]
  },
  {
   "cell_type": "code",
   "execution_count": 7,
   "metadata": {},
   "outputs": [
    {
     "data": {
      "text/html": [
       "<div>\n",
       "<style scoped>\n",
       "    .dataframe tbody tr th:only-of-type {\n",
       "        vertical-align: middle;\n",
       "    }\n",
       "\n",
       "    .dataframe tbody tr th {\n",
       "        vertical-align: top;\n",
       "    }\n",
       "\n",
       "    .dataframe thead th {\n",
       "        text-align: right;\n",
       "    }\n",
       "</style>\n",
       "<table border=\"1\" class=\"dataframe\">\n",
       "  <thead>\n",
       "    <tr style=\"text-align: right;\">\n",
       "      <th></th>\n",
       "      <th>username</th>\n",
       "      <th>no-pesanan</th>\n",
       "      <th>tanggal-pesanan</th>\n",
       "      <th>nama-barang</th>\n",
       "      <th>jumlah</th>\n",
       "      <th>dibayar</th>\n",
       "      <th>payment-method</th>\n",
       "    </tr>\n",
       "  </thead>\n",
       "  <tbody>\n",
       "    <tr>\n",
       "      <th>0</th>\n",
       "      <td>surya251196</td>\n",
       "      <td>201104NURT3</td>\n",
       "      <td>2020-05-03</td>\n",
       "      <td>[NIBRAS SARIMBIT LAIKA BLACK, NIBRAS SARIMBIT ...</td>\n",
       "      <td>2</td>\n",
       "      <td>230000</td>\n",
       "      <td>COD</td>\n",
       "    </tr>\n",
       "    <tr>\n",
       "      <th>1</th>\n",
       "      <td>captain.marline</td>\n",
       "      <td>201104DSB34</td>\n",
       "      <td>2020-05-03</td>\n",
       "      <td>[NIBRAS SARIMBIT LAIKA BLACK, NIBRAS NBC 20 GA...</td>\n",
       "      <td>2</td>\n",
       "      <td>230000</td>\n",
       "      <td>COD</td>\n",
       "    </tr>\n",
       "    <tr>\n",
       "      <th>2</th>\n",
       "      <td>ridhayashinta</td>\n",
       "      <td>201104JHVJ45</td>\n",
       "      <td>2020-05-03</td>\n",
       "      <td>[NIBRAS SARIMBIT LAIKA BLACK, NIBRAS KOKO NK 101]</td>\n",
       "      <td>2</td>\n",
       "      <td>230000</td>\n",
       "      <td>COD</td>\n",
       "    </tr>\n",
       "    <tr>\n",
       "      <th>3</th>\n",
       "      <td>nurulismawati103</td>\n",
       "      <td>201104VGRX4</td>\n",
       "      <td>2020-05-03</td>\n",
       "      <td>[NIBRAS KOKO NSK 89 DAN GAMIS NB A89, NIBRAS K...</td>\n",
       "      <td>2</td>\n",
       "      <td>230000</td>\n",
       "      <td>COD</td>\n",
       "    </tr>\n",
       "    <tr>\n",
       "      <th>4</th>\n",
       "      <td>nabilahauraaa</td>\n",
       "      <td>201104XSAEF</td>\n",
       "      <td>2020-05-04</td>\n",
       "      <td>[NIBRAS KOKO NSK 89 DAN GAMIS NB A90, NIBRAS C...</td>\n",
       "      <td>2</td>\n",
       "      <td>230000</td>\n",
       "      <td>Pay Later</td>\n",
       "    </tr>\n",
       "  </tbody>\n",
       "</table>\n",
       "</div>"
      ],
      "text/plain": [
       "           username    no-pesanan tanggal-pesanan  \\\n",
       "0       surya251196   201104NURT3      2020-05-03   \n",
       "1   captain.marline   201104DSB34      2020-05-03   \n",
       "2     ridhayashinta  201104JHVJ45      2020-05-03   \n",
       "3  nurulismawati103   201104VGRX4      2020-05-03   \n",
       "4     nabilahauraaa   201104XSAEF      2020-05-04   \n",
       "\n",
       "                                         nama-barang  jumlah  dibayar  \\\n",
       "0  [NIBRAS SARIMBIT LAIKA BLACK, NIBRAS SARIMBIT ...       2   230000   \n",
       "1  [NIBRAS SARIMBIT LAIKA BLACK, NIBRAS NBC 20 GA...       2   230000   \n",
       "2  [NIBRAS SARIMBIT LAIKA BLACK, NIBRAS KOKO NK 101]       2   230000   \n",
       "3  [NIBRAS KOKO NSK 89 DAN GAMIS NB A89, NIBRAS K...       2   230000   \n",
       "4  [NIBRAS KOKO NSK 89 DAN GAMIS NB A90, NIBRAS C...       2   230000   \n",
       "\n",
       "  payment-method  \n",
       "0            COD  \n",
       "1            COD  \n",
       "2            COD  \n",
       "3            COD  \n",
       "4      Pay Later  "
      ]
     },
     "execution_count": 7,
     "metadata": {},
     "output_type": "execute_result"
    }
   ],
   "source": [
    "dataset.head()"
   ]
  },
  {
   "attachments": {},
   "cell_type": "markdown",
   "metadata": {},
   "source": [
    "# Implement Apriori Algorithm"
   ]
  },
  {
   "cell_type": "code",
   "execution_count": 8,
   "metadata": {},
   "outputs": [],
   "source": [
    "from apyori import apriori"
   ]
  },
  {
   "cell_type": "code",
   "execution_count": 9,
   "metadata": {},
   "outputs": [
    {
     "data": {
      "text/plain": [
       "[RelationRecord(items=frozenset({'NIBRAS ATASAN PRIA NK 120'}), support=0.1275, ordered_statistics=[OrderedStatistic(items_base=frozenset(), items_add=frozenset({'NIBRAS ATASAN PRIA NK 120'}), confidence=0.1275, lift=1.0)]),\n",
       " RelationRecord(items=frozenset({'NIBRAS KOKO NK 52'}), support=0.1, ordered_statistics=[OrderedStatistic(items_base=frozenset(), items_add=frozenset({'NIBRAS KOKO NK 52'}), confidence=0.1, lift=1.0)]),\n",
       " RelationRecord(items=frozenset({'NIBRAS SARIMBIT 70 COKLAT'}), support=0.215, ordered_statistics=[OrderedStatistic(items_base=frozenset(), items_add=frozenset({'NIBRAS SARIMBIT 70 COKLAT'}), confidence=0.215, lift=1.0)])]"
      ]
     },
     "execution_count": 9,
     "metadata": {},
     "output_type": "execute_result"
    }
   ],
   "source": [
    "result = list(apriori(dataset['nama-barang']))\n",
    "result"
   ]
  },
  {
   "attachments": {},
   "cell_type": "markdown",
   "metadata": {},
   "source": [
    "# Implement FP Growth Algorithm"
   ]
  },
  {
   "cell_type": "code",
   "execution_count": 10,
   "metadata": {},
   "outputs": [],
   "source": [
    "from itertools import groupby\n",
    "from collections import Counter\n"
   ]
  },
  {
   "cell_type": "code",
   "execution_count": 11,
   "metadata": {},
   "outputs": [],
   "source": [
    "# join all items in each transaction into one array\n",
    "transactions = dataset['nama-barang'].tolist()\n",
    "# append each transaction into one array\n",
    "transaction_items = []\n",
    "for transaction in transactions:\n",
    "    for item in transaction:\n",
    "        transaction_items.append(item)\n"
   ]
  },
  {
   "attachments": {},
   "cell_type": "markdown",
   "metadata": {},
   "source": [
    "### __Frekuensi Kemunculan tiap item"
   ]
  },
  {
   "cell_type": "code",
   "execution_count": 12,
   "metadata": {},
   "outputs": [
    {
     "data": {
      "text/html": [
       "<div>\n",
       "<style scoped>\n",
       "    .dataframe tbody tr th:only-of-type {\n",
       "        vertical-align: middle;\n",
       "    }\n",
       "\n",
       "    .dataframe tbody tr th {\n",
       "        vertical-align: top;\n",
       "    }\n",
       "\n",
       "    .dataframe thead th {\n",
       "        text-align: right;\n",
       "    }\n",
       "</style>\n",
       "<table border=\"1\" class=\"dataframe\">\n",
       "  <thead>\n",
       "    <tr style=\"text-align: right;\">\n",
       "      <th></th>\n",
       "      <th>items</th>\n",
       "      <th>incident_count</th>\n",
       "    </tr>\n",
       "  </thead>\n",
       "  <tbody>\n",
       "    <tr>\n",
       "      <th>0</th>\n",
       "      <td>NIBRAS SARIMBIT 70 COKLAT</td>\n",
       "      <td>86</td>\n",
       "    </tr>\n",
       "    <tr>\n",
       "      <th>1</th>\n",
       "      <td>NIBRAS ATASAN PRIA NK 120</td>\n",
       "      <td>51</td>\n",
       "    </tr>\n",
       "    <tr>\n",
       "      <th>2</th>\n",
       "      <td>NIBRAS KOKO NK 52</td>\n",
       "      <td>40</td>\n",
       "    </tr>\n",
       "    <tr>\n",
       "      <th>3</th>\n",
       "      <td>NIBRAS SARIMBIT FAIDA PLUM</td>\n",
       "      <td>30</td>\n",
       "    </tr>\n",
       "    <tr>\n",
       "      <th>4</th>\n",
       "      <td>NIBRAS SARIMBIT CARYNA ARMY COUPLE</td>\n",
       "      <td>29</td>\n",
       "    </tr>\n",
       "    <tr>\n",
       "      <th>5</th>\n",
       "      <td>NIBRAS SARIMBIT LAIKA BLACK</td>\n",
       "      <td>29</td>\n",
       "    </tr>\n",
       "    <tr>\n",
       "      <th>6</th>\n",
       "      <td>NIBRAS SARIMBIT SYARI</td>\n",
       "      <td>25</td>\n",
       "    </tr>\n",
       "    <tr>\n",
       "      <th>7</th>\n",
       "      <td>NIBRAS SARIMBIT CHESA GREY COUPLE</td>\n",
       "      <td>23</td>\n",
       "    </tr>\n",
       "    <tr>\n",
       "      <th>8</th>\n",
       "      <td>NIBRAS KOKO POLOS NK 83</td>\n",
       "      <td>23</td>\n",
       "    </tr>\n",
       "    <tr>\n",
       "      <th>9</th>\n",
       "      <td>NIBRAS SARIMBIT FAIDAA GREY LILAC</td>\n",
       "      <td>22</td>\n",
       "    </tr>\n",
       "    <tr>\n",
       "      <th>10</th>\n",
       "      <td>NIBRAS SARIMBIT ESTELA NAVY</td>\n",
       "      <td>22</td>\n",
       "    </tr>\n",
       "    <tr>\n",
       "      <th>11</th>\n",
       "      <td>NIBRAS GAMIS NB B108</td>\n",
       "      <td>21</td>\n",
       "    </tr>\n",
       "    <tr>\n",
       "      <th>12</th>\n",
       "      <td>NIBRAS NBC 20 GAMIS PUTIH DAN HITAM POLOS</td>\n",
       "      <td>20</td>\n",
       "    </tr>\n",
       "    <tr>\n",
       "      <th>13</th>\n",
       "      <td>NIBRAS SARIMBIT DAANIA BURGUNDY COUPLE</td>\n",
       "      <td>19</td>\n",
       "    </tr>\n",
       "    <tr>\n",
       "      <th>14</th>\n",
       "      <td>NIBRAS SARIMBIT DAANIA TAUPE GREY COUPLE</td>\n",
       "      <td>16</td>\n",
       "    </tr>\n",
       "    <tr>\n",
       "      <th>15</th>\n",
       "      <td>NIBRAS KOKO NSK 95 DAN GAMIS NB B95 COUPLE</td>\n",
       "      <td>15</td>\n",
       "    </tr>\n",
       "    <tr>\n",
       "      <th>16</th>\n",
       "      <td>NIBRAS KOKO NSK 89 DAN GAMIS NB A89</td>\n",
       "      <td>15</td>\n",
       "    </tr>\n",
       "    <tr>\n",
       "      <th>17</th>\n",
       "      <td>NIBRAS SARIMBIT KHAWLA VIOLET</td>\n",
       "      <td>15</td>\n",
       "    </tr>\n",
       "    <tr>\n",
       "      <th>18</th>\n",
       "      <td>NIBRAS KOKO NK 101</td>\n",
       "      <td>14</td>\n",
       "    </tr>\n",
       "    <tr>\n",
       "      <th>19</th>\n",
       "      <td>NIBRAS KOOKO NK 109</td>\n",
       "      <td>14</td>\n",
       "    </tr>\n",
       "    <tr>\n",
       "      <th>20</th>\n",
       "      <td>NIBRAS KOKO NSK 88 DAN GAMIS NB A88</td>\n",
       "      <td>14</td>\n",
       "    </tr>\n",
       "    <tr>\n",
       "      <th>21</th>\n",
       "      <td>NIBRAS KOKO NK 116</td>\n",
       "      <td>13</td>\n",
       "    </tr>\n",
       "    <tr>\n",
       "      <th>22</th>\n",
       "      <td>NIBRAS COUPLE GAMIS NB B94 DAN KOKO NSK 94</td>\n",
       "      <td>13</td>\n",
       "    </tr>\n",
       "    <tr>\n",
       "      <th>23</th>\n",
       "      <td>NIBRAS SARIMBIT CHESA BROWN COUPLE</td>\n",
       "      <td>12</td>\n",
       "    </tr>\n",
       "    <tr>\n",
       "      <th>24</th>\n",
       "      <td>NIBRAS NB A91 DAN NSK 91 COUPLE</td>\n",
       "      <td>11</td>\n",
       "    </tr>\n",
       "    <tr>\n",
       "      <th>25</th>\n",
       "      <td>NIBRAS SARIMBIT BASMA GREEN SAGE</td>\n",
       "      <td>11</td>\n",
       "    </tr>\n",
       "    <tr>\n",
       "      <th>26</th>\n",
       "      <td>NIBRAS NB B93 DAN NSK 93 COUPLE</td>\n",
       "      <td>11</td>\n",
       "    </tr>\n",
       "    <tr>\n",
       "      <th>27</th>\n",
       "      <td>NIBRAS KOKO NK 114</td>\n",
       "      <td>10</td>\n",
       "    </tr>\n",
       "    <tr>\n",
       "      <th>28</th>\n",
       "      <td>NIBRRAS SARIMBIT CHESA BROWN COUPLE</td>\n",
       "      <td>2</td>\n",
       "    </tr>\n",
       "    <tr>\n",
       "      <th>29</th>\n",
       "      <td>NIBRAS KOKO NSK 89 DAN GAMIS NB A92</td>\n",
       "      <td>1</td>\n",
       "    </tr>\n",
       "    <tr>\n",
       "      <th>30</th>\n",
       "      <td>NIBRAS KOKO NSK 89 DAN GAMIS NB A91</td>\n",
       "      <td>1</td>\n",
       "    </tr>\n",
       "    <tr>\n",
       "      <th>31</th>\n",
       "      <td>NIBRAS KOKO NSK 89 DAN GAMIS NB A90</td>\n",
       "      <td>1</td>\n",
       "    </tr>\n",
       "    <tr>\n",
       "      <th>32</th>\n",
       "      <td>NIBRAS KOKO NK 109</td>\n",
       "      <td>1</td>\n",
       "    </tr>\n",
       "    <tr>\n",
       "      <th>33</th>\n",
       "      <td>NIBRAS KOKO NK 101 NIBRAS</td>\n",
       "      <td>1</td>\n",
       "    </tr>\n",
       "    <tr>\n",
       "      <th>34</th>\n",
       "      <td>NIBRAS SARIMBIT FAIDAA PLUM</td>\n",
       "      <td>1</td>\n",
       "    </tr>\n",
       "    <tr>\n",
       "      <th>35</th>\n",
       "      <td>NIBRAS GAMIS NB B108 NIBRAS</td>\n",
       "      <td>1</td>\n",
       "    </tr>\n",
       "    <tr>\n",
       "      <th>36</th>\n",
       "      <td>NIBRAS COUPLE GAMIS NB B94 DAN KOKO NSK 96</td>\n",
       "      <td>1</td>\n",
       "    </tr>\n",
       "    <tr>\n",
       "      <th>37</th>\n",
       "      <td>NIBRAS COUPLE GAMIS NB B94 DAN KOKO NSK 95</td>\n",
       "      <td>1</td>\n",
       "    </tr>\n",
       "    <tr>\n",
       "      <th>38</th>\n",
       "      <td>SARIMBIT DAANIA BURGUNDY COUPLE</td>\n",
       "      <td>1</td>\n",
       "    </tr>\n",
       "    <tr>\n",
       "      <th>39</th>\n",
       "      <td>SARIMBIT KHAWLA VIOLET</td>\n",
       "      <td>1</td>\n",
       "    </tr>\n",
       "  </tbody>\n",
       "</table>\n",
       "</div>"
      ],
      "text/plain": [
       "                                         items  incident_count\n",
       "0                    NIBRAS SARIMBIT 70 COKLAT              86\n",
       "1                    NIBRAS ATASAN PRIA NK 120              51\n",
       "2                            NIBRAS KOKO NK 52              40\n",
       "3                   NIBRAS SARIMBIT FAIDA PLUM              30\n",
       "4           NIBRAS SARIMBIT CARYNA ARMY COUPLE              29\n",
       "5                  NIBRAS SARIMBIT LAIKA BLACK              29\n",
       "6                        NIBRAS SARIMBIT SYARI              25\n",
       "7            NIBRAS SARIMBIT CHESA GREY COUPLE              23\n",
       "8                      NIBRAS KOKO POLOS NK 83              23\n",
       "9            NIBRAS SARIMBIT FAIDAA GREY LILAC              22\n",
       "10                 NIBRAS SARIMBIT ESTELA NAVY              22\n",
       "11                        NIBRAS GAMIS NB B108              21\n",
       "12   NIBRAS NBC 20 GAMIS PUTIH DAN HITAM POLOS              20\n",
       "13      NIBRAS SARIMBIT DAANIA BURGUNDY COUPLE              19\n",
       "14    NIBRAS SARIMBIT DAANIA TAUPE GREY COUPLE              16\n",
       "15  NIBRAS KOKO NSK 95 DAN GAMIS NB B95 COUPLE              15\n",
       "16         NIBRAS KOKO NSK 89 DAN GAMIS NB A89              15\n",
       "17               NIBRAS SARIMBIT KHAWLA VIOLET              15\n",
       "18                          NIBRAS KOKO NK 101              14\n",
       "19                         NIBRAS KOOKO NK 109              14\n",
       "20         NIBRAS KOKO NSK 88 DAN GAMIS NB A88              14\n",
       "21                          NIBRAS KOKO NK 116              13\n",
       "22  NIBRAS COUPLE GAMIS NB B94 DAN KOKO NSK 94              13\n",
       "23          NIBRAS SARIMBIT CHESA BROWN COUPLE              12\n",
       "24             NIBRAS NB A91 DAN NSK 91 COUPLE              11\n",
       "25            NIBRAS SARIMBIT BASMA GREEN SAGE              11\n",
       "26             NIBRAS NB B93 DAN NSK 93 COUPLE              11\n",
       "27                          NIBRAS KOKO NK 114              10\n",
       "28         NIBRRAS SARIMBIT CHESA BROWN COUPLE               2\n",
       "29         NIBRAS KOKO NSK 89 DAN GAMIS NB A92               1\n",
       "30         NIBRAS KOKO NSK 89 DAN GAMIS NB A91               1\n",
       "31         NIBRAS KOKO NSK 89 DAN GAMIS NB A90               1\n",
       "32                          NIBRAS KOKO NK 109               1\n",
       "33                   NIBRAS KOKO NK 101 NIBRAS               1\n",
       "34                 NIBRAS SARIMBIT FAIDAA PLUM               1\n",
       "35                 NIBRAS GAMIS NB B108 NIBRAS               1\n",
       "36  NIBRAS COUPLE GAMIS NB B94 DAN KOKO NSK 96               1\n",
       "37  NIBRAS COUPLE GAMIS NB B94 DAN KOKO NSK 95               1\n",
       "38             SARIMBIT DAANIA BURGUNDY COUPLE               1\n",
       "39                      SARIMBIT KHAWLA VIOLET               1"
      ]
     },
     "execution_count": 12,
     "metadata": {},
     "output_type": "execute_result"
    }
   ],
   "source": [
    "items_df = pd.DataFrame(transaction_items, columns=[\"items\"])\n",
    "items_df[\"incident_count\"] = 1\n",
    "\n",
    "items_df_table = items_df.groupby(\"items\").sum().sort_values(\n",
    "    \"incident_count\", ascending=False).reset_index()\n",
    "\n",
    "items_df_table\n"
   ]
  },
  {
   "attachments": {},
   "cell_type": "markdown",
   "metadata": {},
   "source": [
    "### __Plotting with Treemap"
   ]
  },
  {
   "cell_type": "code",
   "execution_count": 13,
   "metadata": {},
   "outputs": [],
   "source": [
    "import plotly.express as px\n"
   ]
  },
  {
   "cell_type": "code",
   "execution_count": 14,
   "metadata": {},
   "outputs": [],
   "source": [
    "items_df_table[\"all\"] = \"Top 50 items\"\n",
    "\n",
    "fig_items = px.treemap(items_df_table.head(50), path=['all', \"items\"], values='incident_count',\n",
    "                       color=items_df_table[\"incident_count\"].head(50), hover_data=['items'],\n",
    "                       color_continuous_scale='Blues',\n",
    "                       )\n"
   ]
  },
  {
   "cell_type": "code",
   "execution_count": 15,
   "metadata": {},
   "outputs": [
    {
     "data": {
      "application/vnd.plotly.v1+json": {
       "config": {
        "plotlyServerURL": "https://plot.ly"
       },
       "data": [
        {
         "branchvalues": "total",
         "customdata": [
          [
           "NIBRAS ATASAN PRIA NK 120",
           51
          ],
          [
           "NIBRAS COUPLE GAMIS NB B94 DAN KOKO NSK 94",
           13
          ],
          [
           "NIBRAS COUPLE GAMIS NB B94 DAN KOKO NSK 95",
           1
          ],
          [
           "NIBRAS COUPLE GAMIS NB B94 DAN KOKO NSK 96",
           1
          ],
          [
           "NIBRAS GAMIS NB B108",
           21
          ],
          [
           "NIBRAS GAMIS NB B108 NIBRAS",
           1
          ],
          [
           "NIBRAS KOKO NK 101",
           14
          ],
          [
           "NIBRAS KOKO NK 101 NIBRAS",
           1
          ],
          [
           "NIBRAS KOKO NK 109",
           1
          ],
          [
           "NIBRAS KOKO NK 114",
           10
          ],
          [
           "NIBRAS KOKO NK 116",
           13
          ],
          [
           "NIBRAS KOKO NK 52",
           40
          ],
          [
           "NIBRAS KOKO NSK 88 DAN GAMIS NB A88",
           14
          ],
          [
           "NIBRAS KOKO NSK 89 DAN GAMIS NB A89",
           15
          ],
          [
           "NIBRAS KOKO NSK 89 DAN GAMIS NB A90",
           1
          ],
          [
           "NIBRAS KOKO NSK 89 DAN GAMIS NB A91",
           1
          ],
          [
           "NIBRAS KOKO NSK 89 DAN GAMIS NB A92",
           1
          ],
          [
           "NIBRAS KOKO NSK 95 DAN GAMIS NB B95 COUPLE",
           15
          ],
          [
           "NIBRAS KOKO POLOS NK 83",
           23
          ],
          [
           "NIBRAS KOOKO NK 109",
           14
          ],
          [
           "NIBRAS NB A91 DAN NSK 91 COUPLE",
           11
          ],
          [
           "NIBRAS NB B93 DAN NSK 93 COUPLE",
           11
          ],
          [
           "NIBRAS NBC 20 GAMIS PUTIH DAN HITAM POLOS",
           20
          ],
          [
           "NIBRAS SARIMBIT 70 COKLAT",
           86
          ],
          [
           "NIBRAS SARIMBIT BASMA GREEN SAGE",
           11
          ],
          [
           "NIBRAS SARIMBIT CARYNA ARMY COUPLE",
           29
          ],
          [
           "NIBRAS SARIMBIT CHESA BROWN COUPLE",
           12
          ],
          [
           "NIBRAS SARIMBIT CHESA GREY COUPLE",
           23
          ],
          [
           "NIBRAS SARIMBIT DAANIA BURGUNDY COUPLE",
           19
          ],
          [
           "NIBRAS SARIMBIT DAANIA TAUPE GREY COUPLE",
           16
          ],
          [
           "NIBRAS SARIMBIT ESTELA NAVY",
           22
          ],
          [
           "NIBRAS SARIMBIT FAIDA PLUM",
           30
          ],
          [
           "NIBRAS SARIMBIT FAIDAA GREY LILAC",
           22
          ],
          [
           "NIBRAS SARIMBIT FAIDAA PLUM",
           1
          ],
          [
           "NIBRAS SARIMBIT KHAWLA VIOLET",
           15
          ],
          [
           "NIBRAS SARIMBIT LAIKA BLACK",
           29
          ],
          [
           "NIBRAS SARIMBIT SYARI",
           25
          ],
          [
           "NIBRRAS SARIMBIT CHESA BROWN COUPLE",
           2
          ],
          [
           "SARIMBIT DAANIA BURGUNDY COUPLE",
           1
          ],
          [
           "SARIMBIT KHAWLA VIOLET",
           1
          ],
          [
           "(?)",
           32.19937205651491
          ]
         ],
         "domain": {
          "x": [
           0,
           1
          ],
          "y": [
           0,
           1
          ]
         },
         "hovertemplate": "labels=%{label}<br>incident_count=%{value}<br>parent=%{parent}<br>id=%{id}<br>items=%{customdata[0]}<br>color=%{color}<extra></extra>",
         "ids": [
          "Top 50 items/NIBRAS ATASAN PRIA NK 120",
          "Top 50 items/NIBRAS COUPLE GAMIS NB B94 DAN KOKO NSK 94",
          "Top 50 items/NIBRAS COUPLE GAMIS NB B94 DAN KOKO NSK 95",
          "Top 50 items/NIBRAS COUPLE GAMIS NB B94 DAN KOKO NSK 96",
          "Top 50 items/NIBRAS GAMIS NB B108",
          "Top 50 items/NIBRAS GAMIS NB B108 NIBRAS",
          "Top 50 items/NIBRAS KOKO NK 101",
          "Top 50 items/NIBRAS KOKO NK 101 NIBRAS",
          "Top 50 items/NIBRAS KOKO NK 109",
          "Top 50 items/NIBRAS KOKO NK 114",
          "Top 50 items/NIBRAS KOKO NK 116",
          "Top 50 items/NIBRAS KOKO NK 52",
          "Top 50 items/NIBRAS KOKO NSK 88 DAN GAMIS NB A88",
          "Top 50 items/NIBRAS KOKO NSK 89 DAN GAMIS NB A89",
          "Top 50 items/NIBRAS KOKO NSK 89 DAN GAMIS NB A90",
          "Top 50 items/NIBRAS KOKO NSK 89 DAN GAMIS NB A91",
          "Top 50 items/NIBRAS KOKO NSK 89 DAN GAMIS NB A92",
          "Top 50 items/NIBRAS KOKO NSK 95 DAN GAMIS NB B95 COUPLE",
          "Top 50 items/NIBRAS KOKO POLOS NK 83",
          "Top 50 items/NIBRAS KOOKO NK 109",
          "Top 50 items/NIBRAS NB A91 DAN NSK 91 COUPLE",
          "Top 50 items/NIBRAS NB B93 DAN NSK 93 COUPLE",
          "Top 50 items/NIBRAS NBC 20 GAMIS PUTIH DAN HITAM POLOS",
          "Top 50 items/NIBRAS SARIMBIT 70 COKLAT",
          "Top 50 items/NIBRAS SARIMBIT BASMA GREEN SAGE",
          "Top 50 items/NIBRAS SARIMBIT CARYNA ARMY COUPLE",
          "Top 50 items/NIBRAS SARIMBIT CHESA BROWN COUPLE",
          "Top 50 items/NIBRAS SARIMBIT CHESA GREY COUPLE",
          "Top 50 items/NIBRAS SARIMBIT DAANIA BURGUNDY COUPLE",
          "Top 50 items/NIBRAS SARIMBIT DAANIA TAUPE GREY COUPLE",
          "Top 50 items/NIBRAS SARIMBIT ESTELA NAVY",
          "Top 50 items/NIBRAS SARIMBIT FAIDA PLUM",
          "Top 50 items/NIBRAS SARIMBIT FAIDAA GREY LILAC",
          "Top 50 items/NIBRAS SARIMBIT FAIDAA PLUM",
          "Top 50 items/NIBRAS SARIMBIT KHAWLA VIOLET",
          "Top 50 items/NIBRAS SARIMBIT LAIKA BLACK",
          "Top 50 items/NIBRAS SARIMBIT SYARI",
          "Top 50 items/NIBRRAS SARIMBIT CHESA BROWN COUPLE",
          "Top 50 items/SARIMBIT DAANIA BURGUNDY COUPLE",
          "Top 50 items/SARIMBIT KHAWLA VIOLET",
          "Top 50 items"
         ],
         "labels": [
          "NIBRAS ATASAN PRIA NK 120",
          "NIBRAS COUPLE GAMIS NB B94 DAN KOKO NSK 94",
          "NIBRAS COUPLE GAMIS NB B94 DAN KOKO NSK 95",
          "NIBRAS COUPLE GAMIS NB B94 DAN KOKO NSK 96",
          "NIBRAS GAMIS NB B108",
          "NIBRAS GAMIS NB B108 NIBRAS",
          "NIBRAS KOKO NK 101",
          "NIBRAS KOKO NK 101 NIBRAS",
          "NIBRAS KOKO NK 109",
          "NIBRAS KOKO NK 114",
          "NIBRAS KOKO NK 116",
          "NIBRAS KOKO NK 52",
          "NIBRAS KOKO NSK 88 DAN GAMIS NB A88",
          "NIBRAS KOKO NSK 89 DAN GAMIS NB A89",
          "NIBRAS KOKO NSK 89 DAN GAMIS NB A90",
          "NIBRAS KOKO NSK 89 DAN GAMIS NB A91",
          "NIBRAS KOKO NSK 89 DAN GAMIS NB A92",
          "NIBRAS KOKO NSK 95 DAN GAMIS NB B95 COUPLE",
          "NIBRAS KOKO POLOS NK 83",
          "NIBRAS KOOKO NK 109",
          "NIBRAS NB A91 DAN NSK 91 COUPLE",
          "NIBRAS NB B93 DAN NSK 93 COUPLE",
          "NIBRAS NBC 20 GAMIS PUTIH DAN HITAM POLOS",
          "NIBRAS SARIMBIT 70 COKLAT",
          "NIBRAS SARIMBIT BASMA GREEN SAGE",
          "NIBRAS SARIMBIT CARYNA ARMY COUPLE",
          "NIBRAS SARIMBIT CHESA BROWN COUPLE",
          "NIBRAS SARIMBIT CHESA GREY COUPLE",
          "NIBRAS SARIMBIT DAANIA BURGUNDY COUPLE",
          "NIBRAS SARIMBIT DAANIA TAUPE GREY COUPLE",
          "NIBRAS SARIMBIT ESTELA NAVY",
          "NIBRAS SARIMBIT FAIDA PLUM",
          "NIBRAS SARIMBIT FAIDAA GREY LILAC",
          "NIBRAS SARIMBIT FAIDAA PLUM",
          "NIBRAS SARIMBIT KHAWLA VIOLET",
          "NIBRAS SARIMBIT LAIKA BLACK",
          "NIBRAS SARIMBIT SYARI",
          "NIBRRAS SARIMBIT CHESA BROWN COUPLE",
          "SARIMBIT DAANIA BURGUNDY COUPLE",
          "SARIMBIT KHAWLA VIOLET",
          "Top 50 items"
         ],
         "marker": {
          "coloraxis": "coloraxis",
          "colors": [
           51,
           13,
           1,
           1,
           21,
           1,
           14,
           1,
           1,
           10,
           13,
           40,
           14,
           15,
           1,
           1,
           1,
           15,
           23,
           14,
           11,
           11,
           20,
           86,
           11,
           29,
           12,
           23,
           19,
           16,
           22,
           30,
           22,
           1,
           15,
           29,
           25,
           2,
           1,
           1,
           32.19937205651491
          ]
         },
         "name": "",
         "parents": [
          "Top 50 items",
          "Top 50 items",
          "Top 50 items",
          "Top 50 items",
          "Top 50 items",
          "Top 50 items",
          "Top 50 items",
          "Top 50 items",
          "Top 50 items",
          "Top 50 items",
          "Top 50 items",
          "Top 50 items",
          "Top 50 items",
          "Top 50 items",
          "Top 50 items",
          "Top 50 items",
          "Top 50 items",
          "Top 50 items",
          "Top 50 items",
          "Top 50 items",
          "Top 50 items",
          "Top 50 items",
          "Top 50 items",
          "Top 50 items",
          "Top 50 items",
          "Top 50 items",
          "Top 50 items",
          "Top 50 items",
          "Top 50 items",
          "Top 50 items",
          "Top 50 items",
          "Top 50 items",
          "Top 50 items",
          "Top 50 items",
          "Top 50 items",
          "Top 50 items",
          "Top 50 items",
          "Top 50 items",
          "Top 50 items",
          "Top 50 items",
          ""
         ],
         "type": "treemap",
         "values": [
          51,
          13,
          1,
          1,
          21,
          1,
          14,
          1,
          1,
          10,
          13,
          40,
          14,
          15,
          1,
          1,
          1,
          15,
          23,
          14,
          11,
          11,
          20,
          86,
          11,
          29,
          12,
          23,
          19,
          16,
          22,
          30,
          22,
          1,
          15,
          29,
          25,
          2,
          1,
          1,
          637
         ]
        }
       ],
       "layout": {
        "coloraxis": {
         "colorbar": {
          "title": {
           "text": "color"
          }
         },
         "colorscale": [
          [
           0,
           "rgb(247,251,255)"
          ],
          [
           0.125,
           "rgb(222,235,247)"
          ],
          [
           0.25,
           "rgb(198,219,239)"
          ],
          [
           0.375,
           "rgb(158,202,225)"
          ],
          [
           0.5,
           "rgb(107,174,214)"
          ],
          [
           0.625,
           "rgb(66,146,198)"
          ],
          [
           0.75,
           "rgb(33,113,181)"
          ],
          [
           0.875,
           "rgb(8,81,156)"
          ],
          [
           1,
           "rgb(8,48,107)"
          ]
         ]
        },
        "legend": {
         "tracegroupgap": 0
        },
        "margin": {
         "t": 60
        },
        "template": {
         "data": {
          "bar": [
           {
            "error_x": {
             "color": "#2a3f5f"
            },
            "error_y": {
             "color": "#2a3f5f"
            },
            "marker": {
             "line": {
              "color": "#E5ECF6",
              "width": 0.5
             },
             "pattern": {
              "fillmode": "overlay",
              "size": 10,
              "solidity": 0.2
             }
            },
            "type": "bar"
           }
          ],
          "barpolar": [
           {
            "marker": {
             "line": {
              "color": "#E5ECF6",
              "width": 0.5
             },
             "pattern": {
              "fillmode": "overlay",
              "size": 10,
              "solidity": 0.2
             }
            },
            "type": "barpolar"
           }
          ],
          "carpet": [
           {
            "aaxis": {
             "endlinecolor": "#2a3f5f",
             "gridcolor": "white",
             "linecolor": "white",
             "minorgridcolor": "white",
             "startlinecolor": "#2a3f5f"
            },
            "baxis": {
             "endlinecolor": "#2a3f5f",
             "gridcolor": "white",
             "linecolor": "white",
             "minorgridcolor": "white",
             "startlinecolor": "#2a3f5f"
            },
            "type": "carpet"
           }
          ],
          "choropleth": [
           {
            "colorbar": {
             "outlinewidth": 0,
             "ticks": ""
            },
            "type": "choropleth"
           }
          ],
          "contour": [
           {
            "colorbar": {
             "outlinewidth": 0,
             "ticks": ""
            },
            "colorscale": [
             [
              0,
              "#0d0887"
             ],
             [
              0.1111111111111111,
              "#46039f"
             ],
             [
              0.2222222222222222,
              "#7201a8"
             ],
             [
              0.3333333333333333,
              "#9c179e"
             ],
             [
              0.4444444444444444,
              "#bd3786"
             ],
             [
              0.5555555555555556,
              "#d8576b"
             ],
             [
              0.6666666666666666,
              "#ed7953"
             ],
             [
              0.7777777777777778,
              "#fb9f3a"
             ],
             [
              0.8888888888888888,
              "#fdca26"
             ],
             [
              1,
              "#f0f921"
             ]
            ],
            "type": "contour"
           }
          ],
          "contourcarpet": [
           {
            "colorbar": {
             "outlinewidth": 0,
             "ticks": ""
            },
            "type": "contourcarpet"
           }
          ],
          "heatmap": [
           {
            "colorbar": {
             "outlinewidth": 0,
             "ticks": ""
            },
            "colorscale": [
             [
              0,
              "#0d0887"
             ],
             [
              0.1111111111111111,
              "#46039f"
             ],
             [
              0.2222222222222222,
              "#7201a8"
             ],
             [
              0.3333333333333333,
              "#9c179e"
             ],
             [
              0.4444444444444444,
              "#bd3786"
             ],
             [
              0.5555555555555556,
              "#d8576b"
             ],
             [
              0.6666666666666666,
              "#ed7953"
             ],
             [
              0.7777777777777778,
              "#fb9f3a"
             ],
             [
              0.8888888888888888,
              "#fdca26"
             ],
             [
              1,
              "#f0f921"
             ]
            ],
            "type": "heatmap"
           }
          ],
          "heatmapgl": [
           {
            "colorbar": {
             "outlinewidth": 0,
             "ticks": ""
            },
            "colorscale": [
             [
              0,
              "#0d0887"
             ],
             [
              0.1111111111111111,
              "#46039f"
             ],
             [
              0.2222222222222222,
              "#7201a8"
             ],
             [
              0.3333333333333333,
              "#9c179e"
             ],
             [
              0.4444444444444444,
              "#bd3786"
             ],
             [
              0.5555555555555556,
              "#d8576b"
             ],
             [
              0.6666666666666666,
              "#ed7953"
             ],
             [
              0.7777777777777778,
              "#fb9f3a"
             ],
             [
              0.8888888888888888,
              "#fdca26"
             ],
             [
              1,
              "#f0f921"
             ]
            ],
            "type": "heatmapgl"
           }
          ],
          "histogram": [
           {
            "marker": {
             "pattern": {
              "fillmode": "overlay",
              "size": 10,
              "solidity": 0.2
             }
            },
            "type": "histogram"
           }
          ],
          "histogram2d": [
           {
            "colorbar": {
             "outlinewidth": 0,
             "ticks": ""
            },
            "colorscale": [
             [
              0,
              "#0d0887"
             ],
             [
              0.1111111111111111,
              "#46039f"
             ],
             [
              0.2222222222222222,
              "#7201a8"
             ],
             [
              0.3333333333333333,
              "#9c179e"
             ],
             [
              0.4444444444444444,
              "#bd3786"
             ],
             [
              0.5555555555555556,
              "#d8576b"
             ],
             [
              0.6666666666666666,
              "#ed7953"
             ],
             [
              0.7777777777777778,
              "#fb9f3a"
             ],
             [
              0.8888888888888888,
              "#fdca26"
             ],
             [
              1,
              "#f0f921"
             ]
            ],
            "type": "histogram2d"
           }
          ],
          "histogram2dcontour": [
           {
            "colorbar": {
             "outlinewidth": 0,
             "ticks": ""
            },
            "colorscale": [
             [
              0,
              "#0d0887"
             ],
             [
              0.1111111111111111,
              "#46039f"
             ],
             [
              0.2222222222222222,
              "#7201a8"
             ],
             [
              0.3333333333333333,
              "#9c179e"
             ],
             [
              0.4444444444444444,
              "#bd3786"
             ],
             [
              0.5555555555555556,
              "#d8576b"
             ],
             [
              0.6666666666666666,
              "#ed7953"
             ],
             [
              0.7777777777777778,
              "#fb9f3a"
             ],
             [
              0.8888888888888888,
              "#fdca26"
             ],
             [
              1,
              "#f0f921"
             ]
            ],
            "type": "histogram2dcontour"
           }
          ],
          "mesh3d": [
           {
            "colorbar": {
             "outlinewidth": 0,
             "ticks": ""
            },
            "type": "mesh3d"
           }
          ],
          "parcoords": [
           {
            "line": {
             "colorbar": {
              "outlinewidth": 0,
              "ticks": ""
             }
            },
            "type": "parcoords"
           }
          ],
          "pie": [
           {
            "automargin": true,
            "type": "pie"
           }
          ],
          "scatter": [
           {
            "fillpattern": {
             "fillmode": "overlay",
             "size": 10,
             "solidity": 0.2
            },
            "type": "scatter"
           }
          ],
          "scatter3d": [
           {
            "line": {
             "colorbar": {
              "outlinewidth": 0,
              "ticks": ""
             }
            },
            "marker": {
             "colorbar": {
              "outlinewidth": 0,
              "ticks": ""
             }
            },
            "type": "scatter3d"
           }
          ],
          "scattercarpet": [
           {
            "marker": {
             "colorbar": {
              "outlinewidth": 0,
              "ticks": ""
             }
            },
            "type": "scattercarpet"
           }
          ],
          "scattergeo": [
           {
            "marker": {
             "colorbar": {
              "outlinewidth": 0,
              "ticks": ""
             }
            },
            "type": "scattergeo"
           }
          ],
          "scattergl": [
           {
            "marker": {
             "colorbar": {
              "outlinewidth": 0,
              "ticks": ""
             }
            },
            "type": "scattergl"
           }
          ],
          "scattermapbox": [
           {
            "marker": {
             "colorbar": {
              "outlinewidth": 0,
              "ticks": ""
             }
            },
            "type": "scattermapbox"
           }
          ],
          "scatterpolar": [
           {
            "marker": {
             "colorbar": {
              "outlinewidth": 0,
              "ticks": ""
             }
            },
            "type": "scatterpolar"
           }
          ],
          "scatterpolargl": [
           {
            "marker": {
             "colorbar": {
              "outlinewidth": 0,
              "ticks": ""
             }
            },
            "type": "scatterpolargl"
           }
          ],
          "scatterternary": [
           {
            "marker": {
             "colorbar": {
              "outlinewidth": 0,
              "ticks": ""
             }
            },
            "type": "scatterternary"
           }
          ],
          "surface": [
           {
            "colorbar": {
             "outlinewidth": 0,
             "ticks": ""
            },
            "colorscale": [
             [
              0,
              "#0d0887"
             ],
             [
              0.1111111111111111,
              "#46039f"
             ],
             [
              0.2222222222222222,
              "#7201a8"
             ],
             [
              0.3333333333333333,
              "#9c179e"
             ],
             [
              0.4444444444444444,
              "#bd3786"
             ],
             [
              0.5555555555555556,
              "#d8576b"
             ],
             [
              0.6666666666666666,
              "#ed7953"
             ],
             [
              0.7777777777777778,
              "#fb9f3a"
             ],
             [
              0.8888888888888888,
              "#fdca26"
             ],
             [
              1,
              "#f0f921"
             ]
            ],
            "type": "surface"
           }
          ],
          "table": [
           {
            "cells": {
             "fill": {
              "color": "#EBF0F8"
             },
             "line": {
              "color": "white"
             }
            },
            "header": {
             "fill": {
              "color": "#C8D4E3"
             },
             "line": {
              "color": "white"
             }
            },
            "type": "table"
           }
          ]
         },
         "layout": {
          "annotationdefaults": {
           "arrowcolor": "#2a3f5f",
           "arrowhead": 0,
           "arrowwidth": 1
          },
          "autotypenumbers": "strict",
          "coloraxis": {
           "colorbar": {
            "outlinewidth": 0,
            "ticks": ""
           }
          },
          "colorscale": {
           "diverging": [
            [
             0,
             "#8e0152"
            ],
            [
             0.1,
             "#c51b7d"
            ],
            [
             0.2,
             "#de77ae"
            ],
            [
             0.3,
             "#f1b6da"
            ],
            [
             0.4,
             "#fde0ef"
            ],
            [
             0.5,
             "#f7f7f7"
            ],
            [
             0.6,
             "#e6f5d0"
            ],
            [
             0.7,
             "#b8e186"
            ],
            [
             0.8,
             "#7fbc41"
            ],
            [
             0.9,
             "#4d9221"
            ],
            [
             1,
             "#276419"
            ]
           ],
           "sequential": [
            [
             0,
             "#0d0887"
            ],
            [
             0.1111111111111111,
             "#46039f"
            ],
            [
             0.2222222222222222,
             "#7201a8"
            ],
            [
             0.3333333333333333,
             "#9c179e"
            ],
            [
             0.4444444444444444,
             "#bd3786"
            ],
            [
             0.5555555555555556,
             "#d8576b"
            ],
            [
             0.6666666666666666,
             "#ed7953"
            ],
            [
             0.7777777777777778,
             "#fb9f3a"
            ],
            [
             0.8888888888888888,
             "#fdca26"
            ],
            [
             1,
             "#f0f921"
            ]
           ],
           "sequentialminus": [
            [
             0,
             "#0d0887"
            ],
            [
             0.1111111111111111,
             "#46039f"
            ],
            [
             0.2222222222222222,
             "#7201a8"
            ],
            [
             0.3333333333333333,
             "#9c179e"
            ],
            [
             0.4444444444444444,
             "#bd3786"
            ],
            [
             0.5555555555555556,
             "#d8576b"
            ],
            [
             0.6666666666666666,
             "#ed7953"
            ],
            [
             0.7777777777777778,
             "#fb9f3a"
            ],
            [
             0.8888888888888888,
             "#fdca26"
            ],
            [
             1,
             "#f0f921"
            ]
           ]
          },
          "colorway": [
           "#636efa",
           "#EF553B",
           "#00cc96",
           "#ab63fa",
           "#FFA15A",
           "#19d3f3",
           "#FF6692",
           "#B6E880",
           "#FF97FF",
           "#FECB52"
          ],
          "font": {
           "color": "#2a3f5f"
          },
          "geo": {
           "bgcolor": "white",
           "lakecolor": "white",
           "landcolor": "#E5ECF6",
           "showlakes": true,
           "showland": true,
           "subunitcolor": "white"
          },
          "hoverlabel": {
           "align": "left"
          },
          "hovermode": "closest",
          "mapbox": {
           "style": "light"
          },
          "paper_bgcolor": "white",
          "plot_bgcolor": "#E5ECF6",
          "polar": {
           "angularaxis": {
            "gridcolor": "white",
            "linecolor": "white",
            "ticks": ""
           },
           "bgcolor": "#E5ECF6",
           "radialaxis": {
            "gridcolor": "white",
            "linecolor": "white",
            "ticks": ""
           }
          },
          "scene": {
           "xaxis": {
            "backgroundcolor": "#E5ECF6",
            "gridcolor": "white",
            "gridwidth": 2,
            "linecolor": "white",
            "showbackground": true,
            "ticks": "",
            "zerolinecolor": "white"
           },
           "yaxis": {
            "backgroundcolor": "#E5ECF6",
            "gridcolor": "white",
            "gridwidth": 2,
            "linecolor": "white",
            "showbackground": true,
            "ticks": "",
            "zerolinecolor": "white"
           },
           "zaxis": {
            "backgroundcolor": "#E5ECF6",
            "gridcolor": "white",
            "gridwidth": 2,
            "linecolor": "white",
            "showbackground": true,
            "ticks": "",
            "zerolinecolor": "white"
           }
          },
          "shapedefaults": {
           "line": {
            "color": "#2a3f5f"
           }
          },
          "ternary": {
           "aaxis": {
            "gridcolor": "white",
            "linecolor": "white",
            "ticks": ""
           },
           "baxis": {
            "gridcolor": "white",
            "linecolor": "white",
            "ticks": ""
           },
           "bgcolor": "#E5ECF6",
           "caxis": {
            "gridcolor": "white",
            "linecolor": "white",
            "ticks": ""
           }
          },
          "title": {
           "x": 0.05
          },
          "xaxis": {
           "automargin": true,
           "gridcolor": "white",
           "linecolor": "white",
           "ticks": "",
           "title": {
            "standoff": 15
           },
           "zerolinecolor": "white",
           "zerolinewidth": 2
          },
          "yaxis": {
           "automargin": true,
           "gridcolor": "white",
           "linecolor": "white",
           "ticks": "",
           "title": {
            "standoff": 15
           },
           "zerolinecolor": "white",
           "zerolinewidth": 2
          }
         }
        }
       }
      }
     },
     "metadata": {},
     "output_type": "display_data"
    }
   ],
   "source": [
    "fig_items.show()"
   ]
  },
  {
   "attachments": {},
   "cell_type": "markdown",
   "metadata": {},
   "source": [
    "### __Pre-Processing Dataset"
   ]
  },
  {
   "cell_type": "code",
   "execution_count": 16,
   "metadata": {},
   "outputs": [],
   "source": [
    "# crate new datarames that each column is unique item and each row is number of transaction\n",
    "items_transaction_df = pd.DataFrame(columns=items_df_table[\"items\"].tolist())"
   ]
  },
  {
   "cell_type": "code",
   "execution_count": 17,
   "metadata": {},
   "outputs": [
    {
     "data": {
      "text/html": [
       "<div>\n",
       "<style scoped>\n",
       "    .dataframe tbody tr th:only-of-type {\n",
       "        vertical-align: middle;\n",
       "    }\n",
       "\n",
       "    .dataframe tbody tr th {\n",
       "        vertical-align: top;\n",
       "    }\n",
       "\n",
       "    .dataframe thead th {\n",
       "        text-align: right;\n",
       "    }\n",
       "</style>\n",
       "<table border=\"1\" class=\"dataframe\">\n",
       "  <thead>\n",
       "    <tr style=\"text-align: right;\">\n",
       "      <th></th>\n",
       "      <th>NIBRAS SARIMBIT 70 COKLAT</th>\n",
       "      <th>NIBRAS ATASAN PRIA NK 120</th>\n",
       "      <th>NIBRAS KOKO NK 52</th>\n",
       "      <th>NIBRAS SARIMBIT FAIDA PLUM</th>\n",
       "      <th>NIBRAS SARIMBIT CARYNA ARMY COUPLE</th>\n",
       "      <th>NIBRAS SARIMBIT LAIKA BLACK</th>\n",
       "      <th>NIBRAS SARIMBIT SYARI</th>\n",
       "      <th>NIBRAS SARIMBIT CHESA GREY COUPLE</th>\n",
       "      <th>NIBRAS KOKO POLOS NK 83</th>\n",
       "      <th>NIBRAS SARIMBIT FAIDAA GREY LILAC</th>\n",
       "      <th>...</th>\n",
       "      <th>NIBRAS KOKO NSK 89 DAN GAMIS NB A91</th>\n",
       "      <th>NIBRAS KOKO NSK 89 DAN GAMIS NB A90</th>\n",
       "      <th>NIBRAS KOKO NK 109</th>\n",
       "      <th>NIBRAS KOKO NK 101 NIBRAS</th>\n",
       "      <th>NIBRAS SARIMBIT FAIDAA PLUM</th>\n",
       "      <th>NIBRAS GAMIS NB B108 NIBRAS</th>\n",
       "      <th>NIBRAS COUPLE GAMIS NB B94 DAN KOKO NSK 96</th>\n",
       "      <th>NIBRAS COUPLE GAMIS NB B94 DAN KOKO NSK 95</th>\n",
       "      <th>SARIMBIT DAANIA BURGUNDY COUPLE</th>\n",
       "      <th>SARIMBIT KHAWLA VIOLET</th>\n",
       "    </tr>\n",
       "  </thead>\n",
       "  <tbody>\n",
       "    <tr>\n",
       "      <th>0</th>\n",
       "      <td>False</td>\n",
       "      <td>False</td>\n",
       "      <td>False</td>\n",
       "      <td>False</td>\n",
       "      <td>False</td>\n",
       "      <td>True</td>\n",
       "      <td>False</td>\n",
       "      <td>False</td>\n",
       "      <td>False</td>\n",
       "      <td>False</td>\n",
       "      <td>...</td>\n",
       "      <td>False</td>\n",
       "      <td>False</td>\n",
       "      <td>False</td>\n",
       "      <td>False</td>\n",
       "      <td>False</td>\n",
       "      <td>False</td>\n",
       "      <td>False</td>\n",
       "      <td>False</td>\n",
       "      <td>False</td>\n",
       "      <td>False</td>\n",
       "    </tr>\n",
       "    <tr>\n",
       "      <th>1</th>\n",
       "      <td>False</td>\n",
       "      <td>False</td>\n",
       "      <td>False</td>\n",
       "      <td>False</td>\n",
       "      <td>False</td>\n",
       "      <td>True</td>\n",
       "      <td>False</td>\n",
       "      <td>False</td>\n",
       "      <td>False</td>\n",
       "      <td>False</td>\n",
       "      <td>...</td>\n",
       "      <td>False</td>\n",
       "      <td>False</td>\n",
       "      <td>False</td>\n",
       "      <td>False</td>\n",
       "      <td>False</td>\n",
       "      <td>False</td>\n",
       "      <td>False</td>\n",
       "      <td>False</td>\n",
       "      <td>False</td>\n",
       "      <td>False</td>\n",
       "    </tr>\n",
       "    <tr>\n",
       "      <th>2</th>\n",
       "      <td>False</td>\n",
       "      <td>False</td>\n",
       "      <td>False</td>\n",
       "      <td>False</td>\n",
       "      <td>False</td>\n",
       "      <td>True</td>\n",
       "      <td>False</td>\n",
       "      <td>False</td>\n",
       "      <td>False</td>\n",
       "      <td>False</td>\n",
       "      <td>...</td>\n",
       "      <td>False</td>\n",
       "      <td>False</td>\n",
       "      <td>False</td>\n",
       "      <td>False</td>\n",
       "      <td>False</td>\n",
       "      <td>False</td>\n",
       "      <td>False</td>\n",
       "      <td>False</td>\n",
       "      <td>False</td>\n",
       "      <td>False</td>\n",
       "    </tr>\n",
       "    <tr>\n",
       "      <th>3</th>\n",
       "      <td>False</td>\n",
       "      <td>False</td>\n",
       "      <td>False</td>\n",
       "      <td>False</td>\n",
       "      <td>False</td>\n",
       "      <td>False</td>\n",
       "      <td>False</td>\n",
       "      <td>False</td>\n",
       "      <td>False</td>\n",
       "      <td>False</td>\n",
       "      <td>...</td>\n",
       "      <td>False</td>\n",
       "      <td>False</td>\n",
       "      <td>False</td>\n",
       "      <td>False</td>\n",
       "      <td>False</td>\n",
       "      <td>False</td>\n",
       "      <td>False</td>\n",
       "      <td>False</td>\n",
       "      <td>False</td>\n",
       "      <td>False</td>\n",
       "    </tr>\n",
       "    <tr>\n",
       "      <th>4</th>\n",
       "      <td>False</td>\n",
       "      <td>False</td>\n",
       "      <td>False</td>\n",
       "      <td>False</td>\n",
       "      <td>False</td>\n",
       "      <td>False</td>\n",
       "      <td>False</td>\n",
       "      <td>False</td>\n",
       "      <td>False</td>\n",
       "      <td>False</td>\n",
       "      <td>...</td>\n",
       "      <td>False</td>\n",
       "      <td>True</td>\n",
       "      <td>False</td>\n",
       "      <td>False</td>\n",
       "      <td>False</td>\n",
       "      <td>False</td>\n",
       "      <td>False</td>\n",
       "      <td>False</td>\n",
       "      <td>False</td>\n",
       "      <td>False</td>\n",
       "    </tr>\n",
       "    <tr>\n",
       "      <th>...</th>\n",
       "      <td>...</td>\n",
       "      <td>...</td>\n",
       "      <td>...</td>\n",
       "      <td>...</td>\n",
       "      <td>...</td>\n",
       "      <td>...</td>\n",
       "      <td>...</td>\n",
       "      <td>...</td>\n",
       "      <td>...</td>\n",
       "      <td>...</td>\n",
       "      <td>...</td>\n",
       "      <td>...</td>\n",
       "      <td>...</td>\n",
       "      <td>...</td>\n",
       "      <td>...</td>\n",
       "      <td>...</td>\n",
       "      <td>...</td>\n",
       "      <td>...</td>\n",
       "      <td>...</td>\n",
       "      <td>...</td>\n",
       "      <td>...</td>\n",
       "    </tr>\n",
       "    <tr>\n",
       "      <th>395</th>\n",
       "      <td>True</td>\n",
       "      <td>False</td>\n",
       "      <td>False</td>\n",
       "      <td>False</td>\n",
       "      <td>True</td>\n",
       "      <td>False</td>\n",
       "      <td>False</td>\n",
       "      <td>False</td>\n",
       "      <td>False</td>\n",
       "      <td>False</td>\n",
       "      <td>...</td>\n",
       "      <td>False</td>\n",
       "      <td>False</td>\n",
       "      <td>False</td>\n",
       "      <td>False</td>\n",
       "      <td>False</td>\n",
       "      <td>False</td>\n",
       "      <td>False</td>\n",
       "      <td>False</td>\n",
       "      <td>False</td>\n",
       "      <td>False</td>\n",
       "    </tr>\n",
       "    <tr>\n",
       "      <th>396</th>\n",
       "      <td>True</td>\n",
       "      <td>False</td>\n",
       "      <td>False</td>\n",
       "      <td>False</td>\n",
       "      <td>False</td>\n",
       "      <td>False</td>\n",
       "      <td>False</td>\n",
       "      <td>True</td>\n",
       "      <td>False</td>\n",
       "      <td>False</td>\n",
       "      <td>...</td>\n",
       "      <td>False</td>\n",
       "      <td>False</td>\n",
       "      <td>False</td>\n",
       "      <td>False</td>\n",
       "      <td>False</td>\n",
       "      <td>False</td>\n",
       "      <td>False</td>\n",
       "      <td>False</td>\n",
       "      <td>False</td>\n",
       "      <td>False</td>\n",
       "    </tr>\n",
       "    <tr>\n",
       "      <th>397</th>\n",
       "      <td>True</td>\n",
       "      <td>False</td>\n",
       "      <td>False</td>\n",
       "      <td>False</td>\n",
       "      <td>False</td>\n",
       "      <td>False</td>\n",
       "      <td>False</td>\n",
       "      <td>False</td>\n",
       "      <td>True</td>\n",
       "      <td>False</td>\n",
       "      <td>...</td>\n",
       "      <td>False</td>\n",
       "      <td>False</td>\n",
       "      <td>False</td>\n",
       "      <td>False</td>\n",
       "      <td>False</td>\n",
       "      <td>False</td>\n",
       "      <td>False</td>\n",
       "      <td>False</td>\n",
       "      <td>False</td>\n",
       "      <td>False</td>\n",
       "    </tr>\n",
       "    <tr>\n",
       "      <th>398</th>\n",
       "      <td>True</td>\n",
       "      <td>False</td>\n",
       "      <td>False</td>\n",
       "      <td>False</td>\n",
       "      <td>False</td>\n",
       "      <td>False</td>\n",
       "      <td>False</td>\n",
       "      <td>False</td>\n",
       "      <td>False</td>\n",
       "      <td>False</td>\n",
       "      <td>...</td>\n",
       "      <td>False</td>\n",
       "      <td>False</td>\n",
       "      <td>False</td>\n",
       "      <td>False</td>\n",
       "      <td>False</td>\n",
       "      <td>False</td>\n",
       "      <td>False</td>\n",
       "      <td>False</td>\n",
       "      <td>False</td>\n",
       "      <td>False</td>\n",
       "    </tr>\n",
       "    <tr>\n",
       "      <th>399</th>\n",
       "      <td>True</td>\n",
       "      <td>False</td>\n",
       "      <td>False</td>\n",
       "      <td>False</td>\n",
       "      <td>False</td>\n",
       "      <td>True</td>\n",
       "      <td>False</td>\n",
       "      <td>False</td>\n",
       "      <td>False</td>\n",
       "      <td>False</td>\n",
       "      <td>...</td>\n",
       "      <td>False</td>\n",
       "      <td>False</td>\n",
       "      <td>False</td>\n",
       "      <td>False</td>\n",
       "      <td>False</td>\n",
       "      <td>False</td>\n",
       "      <td>False</td>\n",
       "      <td>False</td>\n",
       "      <td>False</td>\n",
       "      <td>False</td>\n",
       "    </tr>\n",
       "  </tbody>\n",
       "</table>\n",
       "<p>400 rows × 40 columns</p>\n",
       "</div>"
      ],
      "text/plain": [
       "    NIBRAS SARIMBIT 70 COKLAT NIBRAS ATASAN PRIA NK 120 NIBRAS KOKO NK 52  \\\n",
       "0                       False                     False             False   \n",
       "1                       False                     False             False   \n",
       "2                       False                     False             False   \n",
       "3                       False                     False             False   \n",
       "4                       False                     False             False   \n",
       "..                        ...                       ...               ...   \n",
       "395                      True                     False             False   \n",
       "396                      True                     False             False   \n",
       "397                      True                     False             False   \n",
       "398                      True                     False             False   \n",
       "399                      True                     False             False   \n",
       "\n",
       "    NIBRAS SARIMBIT FAIDA PLUM NIBRAS SARIMBIT CARYNA ARMY COUPLE  \\\n",
       "0                        False                              False   \n",
       "1                        False                              False   \n",
       "2                        False                              False   \n",
       "3                        False                              False   \n",
       "4                        False                              False   \n",
       "..                         ...                                ...   \n",
       "395                      False                               True   \n",
       "396                      False                              False   \n",
       "397                      False                              False   \n",
       "398                      False                              False   \n",
       "399                      False                              False   \n",
       "\n",
       "    NIBRAS SARIMBIT LAIKA BLACK NIBRAS SARIMBIT SYARI  \\\n",
       "0                          True                 False   \n",
       "1                          True                 False   \n",
       "2                          True                 False   \n",
       "3                         False                 False   \n",
       "4                         False                 False   \n",
       "..                          ...                   ...   \n",
       "395                       False                 False   \n",
       "396                       False                 False   \n",
       "397                       False                 False   \n",
       "398                       False                 False   \n",
       "399                        True                 False   \n",
       "\n",
       "    NIBRAS SARIMBIT CHESA GREY COUPLE NIBRAS KOKO POLOS NK 83  \\\n",
       "0                               False                   False   \n",
       "1                               False                   False   \n",
       "2                               False                   False   \n",
       "3                               False                   False   \n",
       "4                               False                   False   \n",
       "..                                ...                     ...   \n",
       "395                             False                   False   \n",
       "396                              True                   False   \n",
       "397                             False                    True   \n",
       "398                             False                   False   \n",
       "399                             False                   False   \n",
       "\n",
       "    NIBRAS SARIMBIT FAIDAA GREY LILAC  ...  \\\n",
       "0                               False  ...   \n",
       "1                               False  ...   \n",
       "2                               False  ...   \n",
       "3                               False  ...   \n",
       "4                               False  ...   \n",
       "..                                ...  ...   \n",
       "395                             False  ...   \n",
       "396                             False  ...   \n",
       "397                             False  ...   \n",
       "398                             False  ...   \n",
       "399                             False  ...   \n",
       "\n",
       "    NIBRAS KOKO NSK 89 DAN GAMIS NB A91 NIBRAS KOKO NSK 89 DAN GAMIS NB A90  \\\n",
       "0                                 False                               False   \n",
       "1                                 False                               False   \n",
       "2                                 False                               False   \n",
       "3                                 False                               False   \n",
       "4                                 False                                True   \n",
       "..                                  ...                                 ...   \n",
       "395                               False                               False   \n",
       "396                               False                               False   \n",
       "397                               False                               False   \n",
       "398                               False                               False   \n",
       "399                               False                               False   \n",
       "\n",
       "    NIBRAS KOKO NK 109 NIBRAS KOKO NK 101 NIBRAS NIBRAS SARIMBIT FAIDAA PLUM  \\\n",
       "0                False                     False                       False   \n",
       "1                False                     False                       False   \n",
       "2                False                     False                       False   \n",
       "3                False                     False                       False   \n",
       "4                False                     False                       False   \n",
       "..                 ...                       ...                         ...   \n",
       "395              False                     False                       False   \n",
       "396              False                     False                       False   \n",
       "397              False                     False                       False   \n",
       "398              False                     False                       False   \n",
       "399              False                     False                       False   \n",
       "\n",
       "    NIBRAS GAMIS NB B108 NIBRAS NIBRAS COUPLE GAMIS NB B94 DAN KOKO NSK 96  \\\n",
       "0                         False                                      False   \n",
       "1                         False                                      False   \n",
       "2                         False                                      False   \n",
       "3                         False                                      False   \n",
       "4                         False                                      False   \n",
       "..                          ...                                        ...   \n",
       "395                       False                                      False   \n",
       "396                       False                                      False   \n",
       "397                       False                                      False   \n",
       "398                       False                                      False   \n",
       "399                       False                                      False   \n",
       "\n",
       "    NIBRAS COUPLE GAMIS NB B94 DAN KOKO NSK 95  \\\n",
       "0                                        False   \n",
       "1                                        False   \n",
       "2                                        False   \n",
       "3                                        False   \n",
       "4                                        False   \n",
       "..                                         ...   \n",
       "395                                      False   \n",
       "396                                      False   \n",
       "397                                      False   \n",
       "398                                      False   \n",
       "399                                      False   \n",
       "\n",
       "    SARIMBIT DAANIA BURGUNDY COUPLE SARIMBIT KHAWLA VIOLET  \n",
       "0                             False                  False  \n",
       "1                             False                  False  \n",
       "2                             False                  False  \n",
       "3                             False                  False  \n",
       "4                             False                  False  \n",
       "..                              ...                    ...  \n",
       "395                           False                  False  \n",
       "396                           False                  False  \n",
       "397                           False                  False  \n",
       "398                           False                  False  \n",
       "399                           False                  False  \n",
       "\n",
       "[400 rows x 40 columns]"
      ]
     },
     "execution_count": 17,
     "metadata": {},
     "output_type": "execute_result"
    }
   ],
   "source": [
    "\n",
    "# fill each row with items in dataset['nama-barang] and fill with 1 if item is in transaction and 0 if not\n",
    "for transaction in dataset['nama-barang']:\n",
    "    temp_df = pd.DataFrame(columns=items_df_table[\"items\"].tolist())\n",
    "    for item in items_df_table[\"items\"].tolist():\n",
    "        if item in transaction:\n",
    "            temp_df[item] = [True]\n",
    "        else:\n",
    "            temp_df[item] = [False]\n",
    "    items_transaction_df = pd.concat(\n",
    "        [items_transaction_df, temp_df], ignore_index=True)\n",
    "\n",
    "items_transaction_df\n"
   ]
  },
  {
   "attachments": {},
   "cell_type": "markdown",
   "metadata": {},
   "source": [
    "### __Implementing FP-Growth Algorithm"
   ]
  },
  {
   "cell_type": "code",
   "execution_count": 18,
   "metadata": {},
   "outputs": [],
   "source": [
    "from mlxtend.frequent_patterns import fpgrowth, association_rules\n"
   ]
  },
  {
   "cell_type": "code",
   "execution_count": null,
   "metadata": {},
   "outputs": [
    {
     "ename": "NameError",
     "evalue": "name 'fpgrowth' is not defined",
     "output_type": "error",
     "traceback": [
      "\u001b[1;31m---------------------------------------------------------------------------\u001b[0m",
      "\u001b[1;31mNameError\u001b[0m                                 Traceback (most recent call last)",
      "\u001b[1;32md:\\SKRIPSI 2023\\File Pendukung Skripsi\\Kode Program\\Association Rules\\association-rules.ipynb Cell 27\u001b[0m line \u001b[0;36m1\n\u001b[1;32m----> <a href='vscode-notebook-cell:/d%3A/SKRIPSI%202023/File%20Pendukung%20Skripsi/Kode%20Program/Association%20Rules/association-rules.ipynb#X35sZmlsZQ%3D%3D?line=0'>1</a>\u001b[0m fpgrowth_res \u001b[39m=\u001b[39m fpgrowth(items_transaction_df, min_support\u001b[39m=\u001b[39m\u001b[39m0.001\u001b[39m, use_colnames\u001b[39m=\u001b[39m\u001b[39mTrue\u001b[39;00m)\n\u001b[0;32m      <a href='vscode-notebook-cell:/d%3A/SKRIPSI%202023/File%20Pendukung%20Skripsi/Kode%20Program/Association%20Rules/association-rules.ipynb#X35sZmlsZQ%3D%3D?line=1'>2</a>\u001b[0m fpgrowth_res \n",
      "\u001b[1;31mNameError\u001b[0m: name 'fpgrowth' is not defined"
     ]
    }
   ],
   "source": [
    "fpgrowth_res = fpgrowth(items_transaction_df, min_support=0.001, use_colnames=True)\n",
    "fpgrowth_res "
   ]
  },
  {
   "cell_type": "code",
   "execution_count": null,
   "metadata": {},
   "outputs": [
    {
     "data": {
      "text/html": [
       "<div>\n",
       "<style scoped>\n",
       "    .dataframe tbody tr th:only-of-type {\n",
       "        vertical-align: middle;\n",
       "    }\n",
       "\n",
       "    .dataframe tbody tr th {\n",
       "        vertical-align: top;\n",
       "    }\n",
       "\n",
       "    .dataframe thead th {\n",
       "        text-align: right;\n",
       "    }\n",
       "</style>\n",
       "<table border=\"1\" class=\"dataframe\">\n",
       "  <thead>\n",
       "    <tr style=\"text-align: right;\">\n",
       "      <th></th>\n",
       "      <th>antecedents</th>\n",
       "      <th>consequents</th>\n",
       "      <th>antecedent support</th>\n",
       "      <th>consequent support</th>\n",
       "      <th>support</th>\n",
       "      <th>confidence</th>\n",
       "      <th>lift</th>\n",
       "      <th>leverage</th>\n",
       "      <th>conviction</th>\n",
       "      <th>zhangs_metric</th>\n",
       "    </tr>\n",
       "  </thead>\n",
       "  <tbody>\n",
       "  </tbody>\n",
       "</table>\n",
       "</div>"
      ],
      "text/plain": [
       "Empty DataFrame\n",
       "Columns: [antecedents, consequents, antecedent support, consequent support, support, confidence, lift, leverage, conviction, zhangs_metric]\n",
       "Index: []"
      ]
     },
     "execution_count": 24,
     "metadata": {},
     "output_type": "execute_result"
    }
   ],
   "source": [
    "association_rules_res = association_rules(\n",
    "    fpgrowth_res, metric=\"confidence\", min_threshold=1)\n",
    "association_rules_res\n"
   ]
  },
  {
   "cell_type": "code",
   "execution_count": null,
   "metadata": {},
   "outputs": [
    {
     "data": {
      "text/html": [
       "<div>\n",
       "<style scoped>\n",
       "    .dataframe tbody tr th:only-of-type {\n",
       "        vertical-align: middle;\n",
       "    }\n",
       "\n",
       "    .dataframe tbody tr th {\n",
       "        vertical-align: top;\n",
       "    }\n",
       "\n",
       "    .dataframe thead th {\n",
       "        text-align: right;\n",
       "    }\n",
       "</style>\n",
       "<table border=\"1\" class=\"dataframe\">\n",
       "  <thead>\n",
       "    <tr style=\"text-align: right;\">\n",
       "      <th></th>\n",
       "      <th>antecedents</th>\n",
       "      <th>consequents</th>\n",
       "      <th>antecedent support</th>\n",
       "      <th>consequent support</th>\n",
       "      <th>support</th>\n",
       "      <th>confidence</th>\n",
       "      <th>lift</th>\n",
       "      <th>leverage</th>\n",
       "      <th>conviction</th>\n",
       "      <th>zhangs_metric</th>\n",
       "    </tr>\n",
       "  </thead>\n",
       "  <tbody>\n",
       "  </tbody>\n",
       "</table>\n",
       "</div>"
      ],
      "text/plain": [
       "Empty DataFrame\n",
       "Columns: [antecedents, consequents, antecedent support, consequent support, support, confidence, lift, leverage, conviction, zhangs_metric]\n",
       "Index: []"
      ]
     },
     "execution_count": 20,
     "metadata": {},
     "output_type": "execute_result"
    }
   ],
   "source": [
    "# Sort values based on confidence\n",
    "association_rules_res.sort_values(\"confidence\", ascending=False)\n"
   ]
  }
 ],
 "metadata": {
  "kernelspec": {
   "display_name": "Python 3",
   "language": "python",
   "name": "python3"
  },
  "language_info": {
   "codemirror_mode": {
    "name": "ipython",
    "version": 3
   },
   "file_extension": ".py",
   "mimetype": "text/x-python",
   "name": "python",
   "nbconvert_exporter": "python",
   "pygments_lexer": "ipython3",
   "version": "3.12.0"
  },
  "orig_nbformat": 4
 },
 "nbformat": 4,
 "nbformat_minor": 2
}
